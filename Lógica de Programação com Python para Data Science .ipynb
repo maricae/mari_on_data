{
 "cells": [
  {
   "cell_type": "markdown",
   "id": "99155aff",
   "metadata": {},
   "source": [
    "# Lógica de Programação com Python para Data Science "
   ]
  },
  {
   "cell_type": "markdown",
   "id": "07b618fd",
   "metadata": {},
   "source": [
    "Montei uma lista com 5 conceitos e aplicações para quem quer começar com os estudos de Python com o foco na carreira de dados. Adicionei alguns exemplos de como utilizamos esses conceitos no dia a dia de um profissional de dados.\n",
    "\n",
    "Apresento sobre:\\\n",
    "1- Tipos de Dados;\\\n",
    "2- Condições;\\\n",
    "3- Algumas funções básicas que COM CERTEZA você irá usar um dia;\\\n",
    "4- Construindo Funções;\\\n",
    "5- Laços e Loops."
   ]
  },
  {
   "cell_type": "markdown",
   "id": "3381f8d4",
   "metadata": {
    "tags": []
   },
   "source": [
    "## 1 Tipos de Dados"
   ]
  },
  {
   "cell_type": "markdown",
   "id": "293543f0",
   "metadata": {
    "jp-MarkdownHeadingCollapsed": true,
    "tags": []
   },
   "source": [
    "### 1.1 Booleano\n",
    "É o tipo de dado que pode atribuir valor 0 ou 1, verdadeiro ou falso. \\\n",
    "\\\n",
    "Um exemplo seria a coluna de \"Venda Finalizada\" em uma tabela de vendas. Neste caso, essa coluna seria um bolean, pois só existe duas respostas para essa informação, sim ou não (1 ou 0).\\\n",
    "\\\n",
    "Na estatística e na economia chamamos esse tipo de dado de **variável dicotômica**, pois assume dois valores, um que significa a presença e outro a ausência daquela característica.\n",
    "\n"
   ]
  },
  {
   "cell_type": "code",
   "execution_count": 148,
   "id": "b91ef9e7",
   "metadata": {},
   "outputs": [
    {
     "data": {
      "text/plain": [
       "True"
      ]
     },
     "execution_count": 148,
     "metadata": {},
     "output_type": "execute_result"
    }
   ],
   "source": [
    "2 > 1"
   ]
  },
  {
   "cell_type": "code",
   "execution_count": 125,
   "id": "3e791a2a",
   "metadata": {},
   "outputs": [
    {
     "data": {
      "text/plain": [
       "False"
      ]
     },
     "execution_count": 125,
     "metadata": {},
     "output_type": "execute_result"
    }
   ],
   "source": [
    "30 < 15"
   ]
  },
  {
   "cell_type": "code",
   "execution_count": 31,
   "id": "09e0bc7e",
   "metadata": {},
   "outputs": [],
   "source": [
    "venda_finalizada = [1,0,1,1,0]"
   ]
  },
  {
   "cell_type": "code",
   "execution_count": 32,
   "id": "17b3b196",
   "metadata": {},
   "outputs": [
    {
     "name": "stdout",
     "output_type": "stream",
     "text": [
      "Venda finalizada.\n"
     ]
    }
   ],
   "source": [
    "# Criando uma função que resulta as definições\n",
    "def finalizadas(venda_finalizada):\n",
    "    if venda_finalizada == 1:\n",
    "        print('Venda finalizada.')\n",
    "    else:\n",
    "        print('Venda não finalizada.')\n",
    "\n",
    "# Resultado da primeira linha (venda_finalizada == 1)\n",
    "finalizadas(venda_finalizada[0])"
   ]
  },
  {
   "cell_type": "markdown",
   "id": "14a4b45f-43a0-46cb-b902-4afe8d3795cd",
   "metadata": {},
   "source": [
    "Quando terminar de estudar a parte de criação de funções, volte aqui."
   ]
  },
  {
   "cell_type": "markdown",
   "id": "d3d47e41",
   "metadata": {
    "jp-MarkdownHeadingCollapsed": true,
    "tags": []
   },
   "source": [
    "### 1.2 Inteiro e Flutuante"
   ]
  },
  {
   "cell_type": "code",
   "execution_count": 1,
   "id": "1b80cca4",
   "metadata": {},
   "outputs": [],
   "source": [
    "inteiro = 20\n",
    "flutuante = 20.5"
   ]
  },
  {
   "cell_type": "code",
   "execution_count": 8,
   "id": "f9a6ddca",
   "metadata": {
    "scrolled": true
   },
   "outputs": [
    {
     "name": "stdout",
     "output_type": "stream",
     "text": [
      "<class 'int'>\n",
      "<class 'float'>\n"
     ]
    }
   ],
   "source": [
    "print(type(inteiro))\n",
    "print(type(flutuante))"
   ]
  },
  {
   "cell_type": "markdown",
   "id": "6b766136-0506-429f-9503-82c35708955d",
   "metadata": {
    "jp-MarkdownHeadingCollapsed": true,
    "tags": []
   },
   "source": [
    "### 1.3 Palavras (strings)\n",
    "Strings em python são colocadas entre aspas simples ou duplas."
   ]
  },
  {
   "cell_type": "code",
   "execution_count": 9,
   "id": "67c3d8aa-b43f-4c8a-86a2-16ebd910d83c",
   "metadata": {},
   "outputs": [
    {
     "name": "stdout",
     "output_type": "stream",
     "text": [
      "Olá\n"
     ]
    }
   ],
   "source": [
    "A = \"Olá\"\n",
    "print(A)"
   ]
  },
  {
   "cell_type": "markdown",
   "id": "4a866ef4-2d6c-4448-8987-b164edc739c3",
   "metadata": {
    "jp-MarkdownHeadingCollapsed": true,
    "tags": []
   },
   "source": [
    "### 1.4 Lista"
   ]
  },
  {
   "cell_type": "markdown",
   "id": "08b53681-557d-4de3-99f2-b94bfec76396",
   "metadata": {},
   "source": [
    "Lista é uma coleção de valores indexada, em que cada valor é identificado por um índice. O primeiro item na lista está no índice 0, o segundo no índice 1 e assim por diante. Para criar uma lista com elementos deve-se usar colchetes e adicionar os itens entre eles separados por vírgula"
   ]
  },
  {
   "cell_type": "code",
   "execution_count": 76,
   "id": "63e4c3bc-27f4-48d4-80c2-c1c424c6404f",
   "metadata": {},
   "outputs": [
    {
     "name": "stdout",
     "output_type": "stream",
     "text": [
      "<class 'list'>\n",
      "5\n",
      "Gabriel\n"
     ]
    }
   ],
   "source": [
    "analistas = ['Mariana', 'Ester', 'Amanda', 'Samuel', 'Gabriel']\n",
    "print(type(analistas)) # tipo da variável\n",
    "print(len(analistas)) # número de elementos\n",
    "print(analistas[4]) # quinto elemento (o elemento 0 é contado como o primeiro)"
   ]
  },
  {
   "cell_type": "code",
   "execution_count": 39,
   "id": "c242a608-d493-4c96-ab4a-ceaacc159db9",
   "metadata": {},
   "outputs": [],
   "source": [
    "idades = [18,22,15,50]\n",
    "#          0  1  2  3\n",
    "#          0 -3 -2 -1"
   ]
  },
  {
   "cell_type": "code",
   "execution_count": 40,
   "id": "155121b6-686a-4b36-8f23-b7782e0bfc1b",
   "metadata": {},
   "outputs": [
    {
     "name": "stdout",
     "output_type": "stream",
     "text": [
      "15\n",
      "[18, 22]\n",
      "[18, 22, 15]\n",
      "[22, 15, 50]\n",
      "50\n"
     ]
    }
   ],
   "source": [
    "print(idades[2])\n",
    "print(idades[0:2]) ## O último elemento ele exclui\n",
    "print(idades[0:3]) ## Pra pegar só os 3 primeiros\n",
    "print(idades[1:])\n",
    "print(idades[-1])"
   ]
  },
  {
   "cell_type": "code",
   "execution_count": 41,
   "id": "a2b44d8e-540e-4804-8901-9180451b5c7b",
   "metadata": {},
   "outputs": [
    {
     "name": "stdout",
     "output_type": "stream",
     "text": [
      "Mariana Caetano Vidal\n",
      "Mariana Caetano Vidal\n"
     ]
    }
   ],
   "source": [
    "meu_nome = ['Caetano ', 'Mariana ', 'Vidal']\n",
    "print(meu_nome[-2] + meu_nome[-3] + meu_nome[-1])\n",
    "print(meu_nome[1] + meu_nome[0] + meu_nome[2])"
   ]
  },
  {
   "cell_type": "markdown",
   "id": "a0d813ee-534b-4e1c-acf9-5efc6a73ff02",
   "metadata": {},
   "source": [
    "#### Funções em Listas"
   ]
  },
  {
   "cell_type": "code",
   "execution_count": 77,
   "id": "3cc90b6f-be92-45b1-987f-f330c53be071",
   "metadata": {},
   "outputs": [
    {
     "name": "stdout",
     "output_type": "stream",
     "text": [
      "['Mariana', 'Ester', 'Amanda', 'Samuel', 'Gabriel', 'Ana']\n"
     ]
    }
   ],
   "source": [
    "analistas.append('Ana') ## Adiciona um valor no final da lista\n",
    "\n",
    "print(analistas)"
   ]
  },
  {
   "cell_type": "code",
   "execution_count": 78,
   "id": "64955c12-1826-4a04-9f70-d41dc9e75825",
   "metadata": {},
   "outputs": [
    {
     "name": "stdout",
     "output_type": "stream",
     "text": [
      "['Mariana', 'Ester', 'Amanda', 'Samuel', 'Gabriel', 'Ana', 'A', 'n', 'a']\n"
     ]
    }
   ],
   "source": [
    "analistas.extend('Ana') ## Adiciona cada caracter na lista, cada um sendo um regristro\n",
    "\n",
    "print(analistas)"
   ]
  },
  {
   "cell_type": "code",
   "execution_count": 79,
   "id": "153845fc-0271-4da3-83b9-f81633685113",
   "metadata": {},
   "outputs": [
    {
     "name": "stdout",
     "output_type": "stream",
     "text": [
      "['Mariana', 'Ester', 'Amanda', 'Samuel', 'Ana', 'Gabriel', 'Ana', 'A', 'n', 'a']\n"
     ]
    }
   ],
   "source": [
    "analistas.insert(4, 'Ana') ## Insere 'Ana' na posição 4 da lista. Não substitui\n",
    "\n",
    "print(analistas)"
   ]
  },
  {
   "cell_type": "code",
   "execution_count": 81,
   "id": "e760653e-4695-4a2b-a7bc-9c4d455be8c4",
   "metadata": {},
   "outputs": [
    {
     "name": "stdout",
     "output_type": "stream",
     "text": [
      "['Mariana', 'Ester', 'Amanda', 'Samuel', 'Gabriel', 'A', 'n', 'a']\n"
     ]
    }
   ],
   "source": [
    "analistas.remove('Ana') ## Remove o primeiro item com o valor indicado\n",
    "\n",
    "print(analistas)"
   ]
  },
  {
   "cell_type": "code",
   "execution_count": 82,
   "id": "f5ba8074-a667-43c8-86ed-655d1409a1ca",
   "metadata": {},
   "outputs": [
    {
     "data": {
      "text/plain": [
       "'Amanda'"
      ]
     },
     "execution_count": 82,
     "metadata": {},
     "output_type": "execute_result"
    }
   ],
   "source": [
    "analistas.pop(2) ## Remove o item na posição definida e o retorna"
   ]
  },
  {
   "cell_type": "code",
   "execution_count": 84,
   "id": "140a5a88-b4e3-4a2d-870f-d7bca9bd076a",
   "metadata": {},
   "outputs": [
    {
     "data": {
      "text/plain": [
       "1"
      ]
     },
     "execution_count": 84,
     "metadata": {},
     "output_type": "execute_result"
    }
   ],
   "source": [
    "analistas.index('Ester') ## Retorna o index (ou posição) do valor definido"
   ]
  },
  {
   "cell_type": "code",
   "execution_count": 86,
   "id": "e51b3799-ee39-4094-ae54-2915523a8144",
   "metadata": {},
   "outputs": [
    {
     "name": "stdout",
     "output_type": "stream",
     "text": [
      "['A', 'Ana', 'Ester', 'Gabriel', 'Mariana', 'Samuel', 'a', 'ester', 'n']\n"
     ]
    }
   ],
   "source": [
    "analistas.append('ester')\n",
    "analistas.sort() ## Ordena, em ordem crescente, os valores da lista em order alfabética e tamanho da letra \n",
    "\n",
    "print(analistas)"
   ]
  },
  {
   "cell_type": "code",
   "execution_count": 88,
   "id": "72d29eb7-9061-49e9-a5eb-207cf88be451",
   "metadata": {},
   "outputs": [
    {
     "name": "stdout",
     "output_type": "stream",
     "text": [
      "['A', 'Ana', 'Ester', 'Gabriel', 'Mariana', 'Samuel', 'a', 'ester', 'n']\n"
     ]
    }
   ],
   "source": [
    "analistas.reverse() ## Ordena, em ordem decrescente, os valores da lista em order alfabética e tamanho da letra \n",
    "\n",
    "print(analistas)"
   ]
  },
  {
   "cell_type": "code",
   "execution_count": 89,
   "id": "09ce1130-6b26-49ea-b8f6-90070eab3608",
   "metadata": {},
   "outputs": [
    {
     "name": "stdout",
     "output_type": "stream",
     "text": [
      "['A', 'Ana', 'Ester', 'Gabriel', 'Mariana', 'Samuel', 'a', 'ester', 'n']\n"
     ]
    }
   ],
   "source": [
    "analistas_copia = analistas.copy() ## Cria uma cópia da lista\n",
    "\n",
    "print(analistas_copia)"
   ]
  },
  {
   "cell_type": "code",
   "execution_count": 90,
   "id": "a0e6c6c4-29de-4211-81f1-6fdc1587c204",
   "metadata": {},
   "outputs": [
    {
     "name": "stdout",
     "output_type": "stream",
     "text": [
      "[]\n"
     ]
    }
   ],
   "source": [
    "analistas.clear() ## Remove todos os itens da lista\n",
    "\n",
    "print(analistas)"
   ]
  },
  {
   "cell_type": "markdown",
   "id": "9c298e70",
   "metadata": {},
   "source": [
    "#### Diferentes tipos em uma lista"
   ]
  },
  {
   "cell_type": "code",
   "execution_count": 81,
   "id": "f8760fdc",
   "metadata": {
    "scrolled": true
   },
   "outputs": [
    {
     "name": "stdout",
     "output_type": "stream",
     "text": [
      "O elemento Mariana é do tipo:  <class 'str'>\n",
      "O elemento 24 é do tipo:  <class 'int'>\n",
      "O elemento True é do tipo:  <class 'bool'>\n",
      "O elemento 18 é do tipo:  <class 'str'>\n"
     ]
    }
   ],
   "source": [
    "lista = ['Mariana', 24, True, '18']\n",
    "\n",
    "for elemento in lista:\n",
    "    print(f'O elemento {elemento} é do tipo: ',  type(elemento))"
   ]
  },
  {
   "cell_type": "code",
   "execution_count": 82,
   "id": "2e6cdf14",
   "metadata": {
    "scrolled": true
   },
   "outputs": [
    {
     "name": "stdout",
     "output_type": "stream",
     "text": [
      "<class 'str'>\n",
      "<class 'bool'>\n",
      "<class 'bool'>\n",
      "<class 'str'>\n",
      "<class 'int'>\n"
     ]
    }
   ],
   "source": [
    "lista = ['int', False, True, '18', 2020]\n",
    "\n",
    "for elemento in lista:\n",
    " print(type(elemento))"
   ]
  },
  {
   "cell_type": "markdown",
   "id": "79ae9687-afcd-4bba-b75c-de20d6989328",
   "metadata": {
    "jp-MarkdownHeadingCollapsed": true,
    "tags": []
   },
   "source": [
    "### 1.5 Dicionário"
   ]
  },
  {
   "cell_type": "markdown",
   "id": "d937fe44-c0d9-47fd-8628-53c943ead050",
   "metadata": {},
   "source": [
    "Os dicionários representam coleções de dados que contém na sua estrutura um conjunto de pares chave/valor, nos quais cada chave individual tem um valor associado. A associação nos dicionários é feita por meio de uma chave que faz referência a um valor."
   ]
  },
  {
   "cell_type": "code",
   "execution_count": 33,
   "id": "e607fc4f-eb69-40bf-be17-27660b38b6ad",
   "metadata": {},
   "outputs": [
    {
     "name": "stdout",
     "output_type": "stream",
     "text": [
      "{'Nome': 'Mariana', 'Endereco': 'Governador Valadares', 'Telefone': '33901010101'}\n",
      "Mariana\n"
     ]
    }
   ],
   "source": [
    "dados_analistas = {\n",
    "    'Nome': 'Mariana',\n",
    "    'Endereco': 'Governador Valadares',\n",
    "    'Telefone': '33901010101'\n",
    "}\n",
    "print(dados_analistas)\n",
    "print(dados_analistas['Nome']) # Retorna apenas os elementos do campo 'nome'"
   ]
  },
  {
   "cell_type": "markdown",
   "id": "a3f41222-108a-4a43-b17c-cb728c65e704",
   "metadata": {},
   "source": [
    "Adicionando e Removendo Elementos em um Dicionário:"
   ]
  },
  {
   "cell_type": "code",
   "execution_count": 35,
   "id": "8996639b-29f1-4aef-90b7-b1d5c28b8e57",
   "metadata": {},
   "outputs": [
    {
     "name": "stdout",
     "output_type": "stream",
     "text": [
      "{'Nome': 'Mariana', 'Endereco': 'Governador Valadares', 'Telefone': '33901010101', 'Idade': 25}\n"
     ]
    }
   ],
   "source": [
    "dados_analistas['Idade'] = 25 # Cria um campo chamado 'Idade'\n",
    "\n",
    "print(dados_analistas)"
   ]
  },
  {
   "cell_type": "code",
   "execution_count": 36,
   "id": "2be967b1-e20e-4acf-a6ac-71841e78149d",
   "metadata": {},
   "outputs": [
    {
     "name": "stdout",
     "output_type": "stream",
     "text": [
      "{'Nome': 'Mariana', 'Endereco': 'Governador Valadares', 'Idade': 25}\n"
     ]
    }
   ],
   "source": [
    "del dados_analistas['Telefone'] # Deleta o campo 'Telefone'\n",
    "\n",
    "print(dados_analistas)"
   ]
  },
  {
   "cell_type": "markdown",
   "id": "23be0908-455d-454c-9f6a-9f4b14470c8a",
   "metadata": {
    "jp-MarkdownHeadingCollapsed": true,
    "tags": []
   },
   "source": [
    "### 1.6 Tupla"
   ]
  },
  {
   "cell_type": "markdown",
   "id": "d3dd7023-260f-420c-900c-97745fa0f721",
   "metadata": {},
   "source": [
    "Tupla é uma estrutura de dados semelhante a lista. Porém, ela tem a característica de ser imutável, ou seja, após uma tupla ser criada, ela não pode ser alterada."
   ]
  },
  {
   "cell_type": "code",
   "execution_count": 37,
   "id": "59ad7e71-350d-44dc-a174-740379909ae9",
   "metadata": {},
   "outputs": [
    {
     "name": "stdout",
     "output_type": "stream",
     "text": [
      "<class 'tuple'>\n",
      "('Mariana', 'Ester', 'Amanda', 'Samuel')\n"
     ]
    }
   ],
   "source": [
    "analistas = ('Mariana', 'Ester', 'Amanda', 'Samuel')\n",
    "# a variável analistas recebe quatro objetos do tipo string\n",
    "\n",
    "print(type(analistas)) # retorna o tipo da variável\n",
    "print(analistas) # retorna os elementos da tupla"
   ]
  },
  {
   "cell_type": "markdown",
   "id": "9094d247-28f9-48be-bc6a-c3cbfed4e653",
   "metadata": {},
   "source": [
    "Uma observação a ser feita no uso de uma tupla é que se ela tiver um único item, é necessário colocar uma vírgula depois dele, pois caso contrário, o objeto que vamos obter é uma string, porque o valor do item é do tipo string."
   ]
  },
  {
   "cell_type": "code",
   "execution_count": 38,
   "id": "be451a23-e910-4208-9ae6-e00178f4f96a",
   "metadata": {},
   "outputs": [
    {
     "name": "stdout",
     "output_type": "stream",
     "text": [
      "<class 'str'>\n",
      "<class 'tuple'>\n"
     ]
    }
   ],
   "source": [
    "objeto_string = ('cadeira')\n",
    "objeto_tupla = ('cadeira',)\n",
    "\n",
    "print(type(objeto_string)) # class 'str'\n",
    "print(type(objeto_tupla)) # class 'tuple'"
   ]
  },
  {
   "cell_type": "markdown",
   "id": "78d8aff9",
   "metadata": {
    "jp-MarkdownHeadingCollapsed": true,
    "tags": []
   },
   "source": [
    "## 2 Condições"
   ]
  },
  {
   "cell_type": "markdown",
   "id": "0ea37882-2b7e-43ab-9327-3dd1cd360e93",
   "metadata": {},
   "source": [
    "Igual: a == b\\\n",
    "Diferente: a != b\\\n",
    "Menor que: a < b\\\n",
    "Menor ou igual: a <= b\\\n",
    "Maior que: a > b\\\n",
    "Maior ou igual: a >= b"
   ]
  },
  {
   "cell_type": "markdown",
   "id": "87a876b6-769f-470b-ad3f-8dce1ab8f811",
   "metadata": {},
   "source": [
    "**if** -> se tal condição for verdadeira, irá retornar X\\\n",
    "**elif** -> se uma segunda condição for verdadeira, irá retornar Y\\\n",
    "**else** -> se nenhuma condição a cima for verdadeira, irá retornar Z"
   ]
  },
  {
   "cell_type": "code",
   "execution_count": 48,
   "id": "04a6bcf7",
   "metadata": {},
   "outputs": [
    {
     "name": "stdout",
     "output_type": "stream",
     "text": [
      "B é maior que A\n"
     ]
    }
   ],
   "source": [
    "A = 20\n",
    "B = 500\n",
    "if B > A: # se B for maior que A, então printe a frase \"B é maior que A\"\n",
    "  print(\"B é maior que A\")\n",
    "\n",
    "# 500 é maior que 20, então a frase irá aparecer"
   ]
  },
  {
   "cell_type": "code",
   "execution_count": 47,
   "id": "7ed39579-68d6-4f68-96a5-b9898d85bc28",
   "metadata": {},
   "outputs": [],
   "source": [
    "A = 20\n",
    "B = 500\n",
    "if B < A: # se B for menor que A, então printe a frase \"B é menor que A\"\n",
    "  print(\"B é menor que A\")\n",
    "\n",
    "# 500 é maior que 20, então a frase nada irá acontecer"
   ]
  },
  {
   "cell_type": "code",
   "execution_count": 51,
   "id": "fbd46ac8",
   "metadata": {},
   "outputs": [
    {
     "name": "stdout",
     "output_type": "stream",
     "text": [
      "B é maior que A\n"
     ]
    }
   ],
   "source": [
    "A = 20\n",
    "B = 500\n",
    "if B > A: # se B for maior que A, então printe a frase \"B é maior que A\"\n",
    "  print(\"B é maior que A\")\n",
    "elif A == B: # se B for igual a A, então printe a frase \"A e B são iguais\"\n",
    "  print(\"A e B são iguais\")"
   ]
  },
  {
   "cell_type": "code",
   "execution_count": 50,
   "id": "d1db0d77",
   "metadata": {},
   "outputs": [
    {
     "name": "stdout",
     "output_type": "stream",
     "text": [
      "A é maior que B\n"
     ]
    }
   ],
   "source": [
    "A = 500\n",
    "B = 20\n",
    "if B > A: # se B for maior que A, então printe a frase \"B é maior que A\"\n",
    "  print(\"B é maior que A\")\n",
    "elif A == B: # se B for igual a A, então printe a frase \"A e B são iguais\"\n",
    "  print(\"A e B são iguais\")\n",
    "else: # se nehuma das condições for verdadeiro, então printe a frase \"A é maior que B\"\n",
    "  print(\"A é maior que B\")"
   ]
  },
  {
   "cell_type": "code",
   "execution_count": 53,
   "id": "a97192db",
   "metadata": {},
   "outputs": [
    {
     "data": {
      "text/plain": [
       "10"
      ]
     },
     "execution_count": 53,
     "metadata": {},
     "output_type": "execute_result"
    }
   ],
   "source": [
    "A=2\n",
    "\n",
    "if A < 2: \n",
    " A = A + 1 \n",
    "else:\n",
    " A = A + 2\n",
    "if A < 4:\n",
    " A = A - 4\n",
    "else:\n",
    " A = A + 6\n",
    "\n",
    "A"
   ]
  },
  {
   "cell_type": "markdown",
   "id": "931fffe6-6951-490a-afae-ef52d3fdc4ab",
   "metadata": {},
   "source": [
    "Temos dois IFs. No primeiro a segunda condição é atendida, então A = 2 + 2 = 4. \\\n",
    "Com A = 4, a segunda condição é atendida novamente, então A = 4 + 6 = 10\\\n",
    "Retornando A = 10"
   ]
  },
  {
   "cell_type": "markdown",
   "id": "50112079-310b-4d2a-a2d1-4bbbeeec5320",
   "metadata": {},
   "source": [
    "Em um mesmo IF pode haver duas condições contendo AND, OR ou NOT:\\\n",
    "**AND** -> As duas condições precisam ser verdadeiras\\\n",
    "**OR** -> Pelo menos uma das condições são verdadeiras\\\n",
    "**NOT** -> A condição não pode ser verdadeira"
   ]
  },
  {
   "cell_type": "code",
   "execution_count": 62,
   "id": "8c042657-a339-4bec-aa51-f8b34ef945e0",
   "metadata": {},
   "outputs": [
    {
     "name": "stdout",
     "output_type": "stream",
     "text": [
      "As duas condições são verdadeiras.\n"
     ]
    }
   ],
   "source": [
    "A = 300\n",
    "B = 40\n",
    "C = 600\n",
    "if A > B and C > A:\n",
    "  print(\"As duas condições são verdadeiras.\")"
   ]
  },
  {
   "cell_type": "code",
   "execution_count": 63,
   "id": "51a11aa8-395e-4508-b8b1-10df0fde61e5",
   "metadata": {},
   "outputs": [
    {
     "name": "stdout",
     "output_type": "stream",
     "text": [
      "Pelo menos uma das condições são verdadeiras\n"
     ]
    }
   ],
   "source": [
    "A = 300\n",
    "B = 40\n",
    "C = 600\n",
    "if A > B or A > C:\n",
    "  print(\"Pelo menos uma das condições são verdadeiras\")"
   ]
  },
  {
   "cell_type": "code",
   "execution_count": 66,
   "id": "e9ad1ac3-c5a3-4913-bae6-389cc501810f",
   "metadata": {},
   "outputs": [
    {
     "name": "stdout",
     "output_type": "stream",
     "text": [
      "A NÃO é maior que B\n"
     ]
    }
   ],
   "source": [
    "A = 40\n",
    "B = 300\n",
    "if not A > B:\n",
    "  print(\"A NÃO é maior que B\")"
   ]
  },
  {
   "cell_type": "markdown",
   "id": "27296968",
   "metadata": {},
   "source": [
    "#### Exemplo Prático 1:\n",
    "Retornando o cáculo da variação anual do faturamento total e mensagem de parabéns caso o faturamento tenha aumentado mais que o dobro:"
   ]
  },
  {
   "cell_type": "code",
   "execution_count": 167,
   "id": "ee223516",
   "metadata": {},
   "outputs": [
    {
     "name": "stdout",
     "output_type": "stream",
     "text": [
      "Faturamento do primeiro ano: 212\n",
      "Faturamento do segundo ano: 23\n",
      "A variação foi de -89.15%\n",
      "É, precisamos melhorar nossos indicadores.\n"
     ]
    }
   ],
   "source": [
    "f1 = float(input('Faturamento do primeiro ano: '))\n",
    "f2 = float(input('Faturamento do segundo ano: '))\n",
    "\n",
    "variacao = ((f2 - f1)/f1)*100\n",
    "\n",
    "print('A variação foi de {:.2f}%'.format(variacao))\n",
    "\n",
    "if variacao >= 100:\n",
    "    print('Muito bom!! Dobramos nosso faturamento!')\n",
    "else:\n",
    "    print('É, precisamos melhorar nossos indicadores.')"
   ]
  },
  {
   "cell_type": "markdown",
   "id": "4c781193",
   "metadata": {},
   "source": [
    "#### Exemplo Prático 2:\n",
    "Retornando o valor da multa com base no número de vendas que tiveram chargeback caso a taxa de chargeback seja superior ou igual a 1,5%:"
   ]
  },
  {
   "cell_type": "code",
   "execution_count": 168,
   "id": "41e6a771",
   "metadata": {},
   "outputs": [
    {
     "name": "stdout",
     "output_type": "stream",
     "text": [
      "Qual o número de vendas com chargeback? 23\n",
      "Qual a taxa de chargeback? 2\n",
      "O preço da sua multa será de R$115.0\n"
     ]
    }
   ],
   "source": [
    "chargeback = float(input('Qual o número de vendas com chargeback? '))\n",
    "taxa_chargeback = float(input('Qual a taxa de chargeback? '))\n",
    "\n",
    "if taxa_chargeback >= 1.5:\n",
    "    print('O preço da sua multa será de R${}'.format(chargeback*5))\n",
    "else:\n",
    "    print('Não será multado')"
   ]
  },
  {
   "cell_type": "markdown",
   "id": "3953939d-76f7-48c0-bd54-62c979d78600",
   "metadata": {},
   "source": [
    "## 3 Algumas funções básicas que COM CERTEZA você irá usar um dia"
   ]
  },
  {
   "cell_type": "markdown",
   "id": "1f4081ce-7d48-467c-a175-b39e1adb7f12",
   "metadata": {},
   "source": [
    "Na programação, funções são blocos de código que realizam determinadas tarefas que normalmente precisam ser executadas diversas vezes dentro de uma aplicação. Quando surge essa necessidade, para que várias instruções não precisem ser repetidas, elas são agrupadas em uma função, à qual é dado um nome e que poderá ser chamada/executada em diferentes partes do programa.\\\n",
    "**print( )**, por exemplo, é uma função que retorna na tela os elementos selecionados.\\\n",
    "Aqui tem alguns exemplos de funções do Python que possivelmente você irá usar:"
   ]
  },
  {
   "cell_type": "markdown",
   "id": "2951003c-4973-4fa5-b95e-fd26ee3e77a9",
   "metadata": {},
   "source": [
    "**type()**"
   ]
  },
  {
   "cell_type": "code",
   "execution_count": 95,
   "id": "c17d34fd-08f3-4eb0-8252-39dee48b07da",
   "metadata": {},
   "outputs": [
    {
     "name": "stdout",
     "output_type": "stream",
     "text": [
      "<class 'list'>\n",
      "<class 'tuple'>\n",
      "<class 'dict'>\n"
     ]
    }
   ],
   "source": [
    "professores = ['Carla', 'Daniel', 'Ingrid', 'Roberto']\n",
    "estacoes = ('Primavera', 'Verão', 'Outono', 'Inverno')\n",
    "cliente = {\n",
    "    'Nome': 'Fábio Garcia',\n",
    "    'email' : 'fabio_garcia_9@outlook.com'\n",
    "}\n",
    "\n",
    "print(type(professores)) # Tipo do dado\n",
    "print(type(estacoes)) \n",
    "print(type(cliente))"
   ]
  },
  {
   "cell_type": "markdown",
   "id": "dd714f93-8a38-494f-88af-a18bb6e3f9b6",
   "metadata": {},
   "source": [
    "**len()**"
   ]
  },
  {
   "cell_type": "code",
   "execution_count": 91,
   "id": "1dd617df-ee5d-47b2-9057-49e674a1d71b",
   "metadata": {},
   "outputs": [
    {
     "name": "stdout",
     "output_type": "stream",
     "text": [
      "7\n"
     ]
    }
   ],
   "source": [
    "ch = 'Georges'\n",
    "print(len(ch)) ## Conta o número de caracteres"
   ]
  },
  {
   "cell_type": "code",
   "execution_count": 56,
   "id": "b0b55599-6e89-41cf-8ecb-13a7462f51cd",
   "metadata": {},
   "outputs": [
    {
     "name": "stdout",
     "output_type": "stream",
     "text": [
      "4\n"
     ]
    }
   ],
   "source": [
    "paises = ['Argentina', 'Brasil', 'Colômbia', 'Uruguai']\n",
    "\n",
    "print(len(paises)) # 4"
   ]
  },
  {
   "cell_type": "markdown",
   "id": "ca95a5f1-b151-487e-9f20-585f6f8c89a6",
   "metadata": {},
   "source": [
    "**min() e max()**"
   ]
  },
  {
   "cell_type": "code",
   "execution_count": 92,
   "id": "f6b34de7-ebbc-4447-b397-c18df13fa90b",
   "metadata": {},
   "outputs": [
    {
     "name": "stdout",
     "output_type": "stream",
     "text": [
      "0\n",
      "20\n",
      "Alex\n",
      "Renata\n"
     ]
    }
   ],
   "source": [
    "numeros = [15, 5, 0, 20, 10]\n",
    "nomes = ['Caio', 'Alex', 'Renata', 'Patrícia', 'Bruno']\n",
    "\n",
    "print(min(numeros)) # Valor mínimo\n",
    "print(max(numeros)) # Valor máximo\n",
    "print(min(nomes))\n",
    "print(max(nomes))"
   ]
  },
  {
   "cell_type": "markdown",
   "id": "fed34633-8a35-4d17-9e61-7b937b51fd5e",
   "metadata": {},
   "source": [
    "**sum()**"
   ]
  },
  {
   "cell_type": "code",
   "execution_count": 93,
   "id": "376717db-f60f-4955-aeeb-e04235e28a06",
   "metadata": {},
   "outputs": [
    {
     "name": "stdout",
     "output_type": "stream",
     "text": [
      "10\n"
     ]
    }
   ],
   "source": [
    "numeros = [1, 3, 6]\n",
    "\n",
    "print(sum(numeros)) # Soma"
   ]
  },
  {
   "cell_type": "markdown",
   "id": "2253c986-fcc9-414e-a555-2c457f231c6f",
   "metadata": {},
   "source": [
    "**range()**"
   ]
  },
  {
   "cell_type": "code",
   "execution_count": 100,
   "id": "791b8edf-3238-4415-9bc8-b7f464832622",
   "metadata": {},
   "outputs": [
    {
     "name": "stdout",
     "output_type": "stream",
     "text": [
      "0\n",
      "1\n",
      "2\n",
      "3\n",
      "4\n",
      "5\n"
     ]
    }
   ],
   "source": [
    "for i in range(6):\n",
    "    print(i)\n"
   ]
  },
  {
   "cell_type": "markdown",
   "id": "bd20eeb0",
   "metadata": {
    "tags": []
   },
   "source": [
    "## 4 Construindo Funções"
   ]
  },
  {
   "cell_type": "markdown",
   "id": "66218623-9326-4688-a0d5-19c8b5adbd49",
   "metadata": {},
   "source": [
    "\"Aaa, mas não tem uma função que retorna o que eu preciso.\" \\\n",
    "Então é só você criar uma! :D"
   ]
  },
  {
   "cell_type": "code",
   "execution_count": 58,
   "id": "c55e7b97",
   "metadata": {},
   "outputs": [
    {
     "name": "stdout",
     "output_type": "stream",
     "text": [
      "Qual o seu nome? Mari\n",
      "Olá, Mari! Tudo bem com você?\n"
     ]
    }
   ],
   "source": [
    "def saudacao():\n",
    "    nome = input('Qual o seu nome? ')\n",
    "    print(f'Olá, {nome}! Tudo bem com você?')\n",
    "\n",
    "saudacao()"
   ]
  },
  {
   "cell_type": "code",
   "execution_count": 59,
   "id": "6c541f53",
   "metadata": {},
   "outputs": [
    {
     "name": "stdout",
     "output_type": "stream",
     "text": [
      "Qual seu primeiro nome? Mariana\n",
      "Qual seu sobrenome? Caetano\n",
      "Mariana Caetano\n"
     ]
    }
   ],
   "source": [
    "def nome_completo(): \n",
    " primeiro_nome = input('Qual seu primeiro nome? ')\n",
    " sobrenome = input('Qual seu sobrenome? ')\n",
    " nome_inteiro = primeiro_nome + ' ' + sobrenome\n",
    " print(nome_inteiro)\n",
    "\n",
    "nome_completo()"
   ]
  },
  {
   "cell_type": "code",
   "execution_count": 60,
   "id": "d102e2a5",
   "metadata": {},
   "outputs": [
    {
     "name": "stdout",
     "output_type": "stream",
     "text": [
      "Olá, Mariana! Tudo bem com você?\n"
     ]
    }
   ],
   "source": [
    "# Função com Parâmetro\n",
    "\n",
    "nome = 'Mariana'\n",
    "\n",
    "def saudacao_com_parametros(nome_da_pessoa):\n",
    "    print(f'Olá, {nome_da_pessoa}! Tudo bem com você?')\n",
    "    \n",
    "saudacao_com_parametros(nome)"
   ]
  },
  {
   "cell_type": "code",
   "execution_count": 90,
   "id": "68b1f30c",
   "metadata": {},
   "outputs": [
    {
     "name": "stdout",
     "output_type": "stream",
     "text": [
      "Saldo parcialmente bloqueado!\n"
     ]
    }
   ],
   "source": [
    "# Função com Condicional\n",
    "\n",
    "taxa_chargeback = 3\n",
    "\n",
    "def verificacao_saque(taxa_chargeback):\n",
    "    if taxa_chargeback >= 1.5:\n",
    "        print('Saldo parcialmente bloqueado!')\n",
    "    else:\n",
    "        print('Saldo liberado!')\n",
    "        \n",
    "verificacao_saque(taxa_chargeback)"
   ]
  },
  {
   "cell_type": "code",
   "execution_count": 91,
   "id": "b2ded705",
   "metadata": {},
   "outputs": [
    {
     "name": "stdout",
     "output_type": "stream",
     "text": [
      "Qual sua taxa de chargeback? 3\n",
      "Saldo parcialmente bloqueado!\n"
     ]
    }
   ],
   "source": [
    "# Conversão de tipo de dado\n",
    "\n",
    "def verificacao_saque_sem_parametros():\n",
    "    taxa_chargeback = input('Qual sua taxa de chargeback? ')\n",
    "    taxa_chargeback = int(taxa_chargeback)\n",
    "    if taxa_chargeback >= 1.5:\n",
    "        print('Saldo parcialmente bloqueado!')\n",
    "    else:\n",
    "        print('Saldo liberado!')\n",
    "        \n",
    "verificacao_saque_sem_parametros()"
   ]
  },
  {
   "cell_type": "code",
   "execution_count": 95,
   "id": "7ae6aa78",
   "metadata": {},
   "outputs": [
    {
     "name": "stdout",
     "output_type": "stream",
     "text": [
      "Qual sua taxa de chargeback? 10\n",
      "Reduza sua taxa de chargeback em 8.51 p.p para o saque integral.\n"
     ]
    }
   ],
   "source": [
    "def saque():\n",
    "    taxa_chargeback = input('Qual sua taxa de chargeback? ')\n",
    "    taxa_chargeback = int(taxa_chargeback)\n",
    "    if taxa_chargeback < 1.5:\n",
    "        print('Saldo liberado!')\n",
    "    else:\n",
    "        reducao = taxa_chargeback - 1.49\n",
    "        print(f'Reduza sua taxa de chargeback em {reducao} p.p para o saque integral.')\n",
    "\n",
    "saque()"
   ]
  },
  {
   "cell_type": "markdown",
   "id": "5cb3a086",
   "metadata": {
    "tags": []
   },
   "source": [
    "## 5 Laços e Loops"
   ]
  },
  {
   "cell_type": "code",
   "execution_count": 102,
   "id": "bea0524c",
   "metadata": {
    "scrolled": true
   },
   "outputs": [],
   "source": [
    "taxas = [3,1,0.3,9,0.8]"
   ]
  },
  {
   "cell_type": "code",
   "execution_count": 106,
   "id": "701ed8c1",
   "metadata": {},
   "outputs": [
    {
     "name": "stdout",
     "output_type": "stream",
     "text": [
      "Sua taxa de chargeback é de 3%. Você terá o saldo parcialmente bloqueado por 180 dias.\n",
      "Sua taxa de chargeback é de 1%. O seu saldo está liberado.\n",
      "Sua taxa de chargeback é de 0.3%. O seu saldo está liberado.\n",
      "Sua taxa de chargeback é de 9%. Você terá o saldo parcialmente bloqueado por 180 dias.\n",
      "Sua taxa de chargeback é de 0.8%. O seu saldo está liberado.\n"
     ]
    }
   ],
   "source": [
    "# for fora da função\n",
    "\n",
    "def verificacao_saque(taxa):\n",
    "    if taxa >= 1.5:\n",
    "        print(f'Sua taxa de chargeback é de {taxa}%. Você terá o saldo parcialmente bloqueado por 180 dias.')\n",
    "    elif taxa >= 5:\n",
    "        print(f'Sua taxa de chargeback é de {taxa}%. Você terá o saldo integralmente bloqueado por 90 dias.')\n",
    "    else:\n",
    "        print(f'Sua taxa de chargeback é de {taxa}%. O seu saldo está liberado.')\n",
    "        \n",
    "# Para cada idade na nossa lista:\n",
    "for taxa in taxas:\n",
    "    verificacao_saque(taxa)"
   ]
  },
  {
   "cell_type": "code",
   "execution_count": 107,
   "id": "6dd9025b",
   "metadata": {},
   "outputs": [
    {
     "name": "stdout",
     "output_type": "stream",
     "text": [
      "Sua taxa de chargeback é de 3%. Você terá o saldo parcialmente bloqueado por 180 dias.\n",
      "Sua taxa de chargeback é de 1%. O seu saldo está liberado.\n",
      "Sua taxa de chargeback é de 0.3%. O seu saldo está liberado.\n",
      "Sua taxa de chargeback é de 9%. Você terá o saldo parcialmente bloqueado por 180 dias.\n",
      "Sua taxa de chargeback é de 0.8%. O seu saldo está liberado.\n"
     ]
    }
   ],
   "source": [
    "# for dentro da função\n",
    "\n",
    "def verificacao_saque(taxa):\n",
    "    for taxa in taxas:\n",
    "        if taxa >= 1.5:\n",
    "            print(f'Sua taxa de chargeback é de {taxa}%. Você terá o saldo parcialmente bloqueado por 180 dias.')\n",
    "        elif taxa >= 5:\n",
    "            print(f'Sua taxa de chargeback é de {taxa}%. Você terá o saldo integralmente bloqueado por 90 dias.')\n",
    "        else:\n",
    "            print(f'Sua taxa de chargeback é de {taxa}%. O seu saldo está liberado.')\n",
    "        \n",
    "verificacao_saque(taxa)"
   ]
  },
  {
   "cell_type": "code",
   "execution_count": 152,
   "id": "6b61034c",
   "metadata": {},
   "outputs": [],
   "source": [
    "saldo_bloqueado = []\n",
    "taxas = [3,1,0.3]\n",
    "\n",
    "def verificacao_saque(taxas, saldo_bloqueado):\n",
    "    for taxa in taxas:\n",
    "        if taxa >= 1.5:\n",
    "            saldo_bloqueado.append(True)\n",
    "        else:\n",
    "            saldo_bloqueado.append(False)\n",
    "            \n",
    "verificacao_saque(taxas, saldo_bloqueado)"
   ]
  },
  {
   "cell_type": "code",
   "execution_count": 153,
   "id": "664a4ea7",
   "metadata": {
    "scrolled": true
   },
   "outputs": [
    {
     "data": {
      "text/plain": [
       "[True, False, False]"
      ]
     },
     "execution_count": 153,
     "metadata": {},
     "output_type": "execute_result"
    }
   ],
   "source": [
    "saldo_bloqueado"
   ]
  },
  {
   "cell_type": "code",
   "execution_count": 154,
   "id": "35d133a0",
   "metadata": {},
   "outputs": [
    {
     "name": "stdout",
     "output_type": "stream",
     "text": [
      "Saldo parcialmente bloqueado\n",
      "Saldo liberado\n",
      "Saldo liberado\n"
     ]
    }
   ],
   "source": [
    "for saldo in saldo_bloqueado:\n",
    "    if saldo == True:\n",
    "        print('Saldo parcialmente bloqueado')\n",
    "    else:\n",
    "        print('Saldo liberado')"
   ]
  }
 ],
 "metadata": {
  "kernelspec": {
   "display_name": "Python 3 (ipykernel)",
   "language": "python",
   "name": "python3"
  },
  "language_info": {
   "codemirror_mode": {
    "name": "ipython",
    "version": 3
   },
   "file_extension": ".py",
   "mimetype": "text/x-python",
   "name": "python",
   "nbconvert_exporter": "python",
   "pygments_lexer": "ipython3",
   "version": "3.9.13"
  }
 },
 "nbformat": 4,
 "nbformat_minor": 5
}
